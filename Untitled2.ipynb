{
  "nbformat": 4,
  "nbformat_minor": 0,
  "metadata": {
    "colab": {
      "provenance": [],
      "authorship_tag": "ABX9TyOfPxeqVScw/0eozUvgJWoy",
      "include_colab_link": true
    },
    "kernelspec": {
      "name": "python3",
      "display_name": "Python 3"
    },
    "language_info": {
      "name": "python"
    }
  },
  "cells": [
    {
      "cell_type": "markdown",
      "metadata": {
        "id": "view-in-github",
        "colab_type": "text"
      },
      "source": [
        "<a href=\"https://colab.research.google.com/github/21Maryori/ejercicio_colab2/blob/main/Untitled2.ipynb\" target=\"_parent\"><img src=\"https://colab.research.google.com/assets/colab-badge.svg\" alt=\"Open In Colab\"/></a>"
      ]
    },
    {
      "cell_type": "markdown",
      "source": [
        "ejercicio 1 - carga de un archivo CSV desde drive"
      ],
      "metadata": {
        "id": "XJM_QPbbs7-k"
      }
    },
    {
      "cell_type": "code",
      "source": [
        "import pandas as pd\n"
      ],
      "metadata": {
        "id": "UX4Lv3-otCti"
      },
      "execution_count": null,
      "outputs": []
    },
    {
      "cell_type": "code",
      "source": [
        "datos = pd.read_csv(\"https://docs.google.com/spreadsheets/d/e/2PACX-1vQsh9DWl1tuYi_h-lHs--0KeYMfJDsknz2pcPKDGkxanbEqeJmpOeCFyEZgtk4N-jJwXdMYoABkmlbI/pub?gid=809929482&single=true&output=csv\")"
      ],
      "metadata": {
        "id": "f-7mE8dltLhy"
      },
      "execution_count": null,
      "outputs": []
    },
    {
      "cell_type": "code",
      "source": [
        "datos"
      ],
      "metadata": {
        "colab": {
          "base_uri": "https://localhost:8080/",
          "height": 771
        },
        "id": "-IDAgqBruCOe",
        "outputId": "ab5e08e1-1c09-4166-b3ba-e7bdb6f974c0"
      },
      "execution_count": null,
      "outputs": [
        {
          "output_type": "execute_result",
          "data": {
            "text/plain": [
              "       nombre  edad    ciudad  ingresos\n",
              "0        Juan    30      Lima      2500\n",
              "1       María    28  Arequipa      3800\n",
              "2        Luis    35     Cusco      4800\n",
              "3         Ana    22  Trujillo      2000\n",
              "4       Pedro    28  Arequipa      3200\n",
              "5      Leonel    64   Juliaca      4980\n",
              "6       Laura    31      Lima      4200\n",
              "7      Carlos    25     Cusco      1800\n",
              "8       Sofía    29  Trujillo      2900\n",
              "9      Andrés    27      Lima      2600\n",
              "10   Gabriela    33  Arequipa      4000\n",
              "11    Micaela    21   Juliaca      5000\n",
              "12      Diego    24     Cusco      3200\n",
              "13  Valentina    26  Trujillo      3500\n",
              "14     Lorena    30      Lima      3800\n",
              "15     Javier    32  Arequipa      5000\n",
              "16    Daniela    29      Lima      2700\n",
              "17     Manuel    31  Trujillo      2700\n",
              "18   Fernanda    28     Cusco      2100\n",
              "19    Ricardo    35      Lima      4400\n",
              "20      Lucía    23  Trujillo      1500\n",
              "21       José    34  Arequipa      4200\n",
              "22      Willy    55      Puno      1300"
            ],
            "text/html": [
              "\n",
              "  <div id=\"df-fa63d577-ec83-4c67-b943-7ede91b5dfa9\" class=\"colab-df-container\">\n",
              "    <div>\n",
              "<style scoped>\n",
              "    .dataframe tbody tr th:only-of-type {\n",
              "        vertical-align: middle;\n",
              "    }\n",
              "\n",
              "    .dataframe tbody tr th {\n",
              "        vertical-align: top;\n",
              "    }\n",
              "\n",
              "    .dataframe thead th {\n",
              "        text-align: right;\n",
              "    }\n",
              "</style>\n",
              "<table border=\"1\" class=\"dataframe\">\n",
              "  <thead>\n",
              "    <tr style=\"text-align: right;\">\n",
              "      <th></th>\n",
              "      <th>nombre</th>\n",
              "      <th>edad</th>\n",
              "      <th>ciudad</th>\n",
              "      <th>ingresos</th>\n",
              "    </tr>\n",
              "  </thead>\n",
              "  <tbody>\n",
              "    <tr>\n",
              "      <th>0</th>\n",
              "      <td>Juan</td>\n",
              "      <td>30</td>\n",
              "      <td>Lima</td>\n",
              "      <td>2500</td>\n",
              "    </tr>\n",
              "    <tr>\n",
              "      <th>1</th>\n",
              "      <td>María</td>\n",
              "      <td>28</td>\n",
              "      <td>Arequipa</td>\n",
              "      <td>3800</td>\n",
              "    </tr>\n",
              "    <tr>\n",
              "      <th>2</th>\n",
              "      <td>Luis</td>\n",
              "      <td>35</td>\n",
              "      <td>Cusco</td>\n",
              "      <td>4800</td>\n",
              "    </tr>\n",
              "    <tr>\n",
              "      <th>3</th>\n",
              "      <td>Ana</td>\n",
              "      <td>22</td>\n",
              "      <td>Trujillo</td>\n",
              "      <td>2000</td>\n",
              "    </tr>\n",
              "    <tr>\n",
              "      <th>4</th>\n",
              "      <td>Pedro</td>\n",
              "      <td>28</td>\n",
              "      <td>Arequipa</td>\n",
              "      <td>3200</td>\n",
              "    </tr>\n",
              "    <tr>\n",
              "      <th>5</th>\n",
              "      <td>Leonel</td>\n",
              "      <td>64</td>\n",
              "      <td>Juliaca</td>\n",
              "      <td>4980</td>\n",
              "    </tr>\n",
              "    <tr>\n",
              "      <th>6</th>\n",
              "      <td>Laura</td>\n",
              "      <td>31</td>\n",
              "      <td>Lima</td>\n",
              "      <td>4200</td>\n",
              "    </tr>\n",
              "    <tr>\n",
              "      <th>7</th>\n",
              "      <td>Carlos</td>\n",
              "      <td>25</td>\n",
              "      <td>Cusco</td>\n",
              "      <td>1800</td>\n",
              "    </tr>\n",
              "    <tr>\n",
              "      <th>8</th>\n",
              "      <td>Sofía</td>\n",
              "      <td>29</td>\n",
              "      <td>Trujillo</td>\n",
              "      <td>2900</td>\n",
              "    </tr>\n",
              "    <tr>\n",
              "      <th>9</th>\n",
              "      <td>Andrés</td>\n",
              "      <td>27</td>\n",
              "      <td>Lima</td>\n",
              "      <td>2600</td>\n",
              "    </tr>\n",
              "    <tr>\n",
              "      <th>10</th>\n",
              "      <td>Gabriela</td>\n",
              "      <td>33</td>\n",
              "      <td>Arequipa</td>\n",
              "      <td>4000</td>\n",
              "    </tr>\n",
              "    <tr>\n",
              "      <th>11</th>\n",
              "      <td>Micaela</td>\n",
              "      <td>21</td>\n",
              "      <td>Juliaca</td>\n",
              "      <td>5000</td>\n",
              "    </tr>\n",
              "    <tr>\n",
              "      <th>12</th>\n",
              "      <td>Diego</td>\n",
              "      <td>24</td>\n",
              "      <td>Cusco</td>\n",
              "      <td>3200</td>\n",
              "    </tr>\n",
              "    <tr>\n",
              "      <th>13</th>\n",
              "      <td>Valentina</td>\n",
              "      <td>26</td>\n",
              "      <td>Trujillo</td>\n",
              "      <td>3500</td>\n",
              "    </tr>\n",
              "    <tr>\n",
              "      <th>14</th>\n",
              "      <td>Lorena</td>\n",
              "      <td>30</td>\n",
              "      <td>Lima</td>\n",
              "      <td>3800</td>\n",
              "    </tr>\n",
              "    <tr>\n",
              "      <th>15</th>\n",
              "      <td>Javier</td>\n",
              "      <td>32</td>\n",
              "      <td>Arequipa</td>\n",
              "      <td>5000</td>\n",
              "    </tr>\n",
              "    <tr>\n",
              "      <th>16</th>\n",
              "      <td>Daniela</td>\n",
              "      <td>29</td>\n",
              "      <td>Lima</td>\n",
              "      <td>2700</td>\n",
              "    </tr>\n",
              "    <tr>\n",
              "      <th>17</th>\n",
              "      <td>Manuel</td>\n",
              "      <td>31</td>\n",
              "      <td>Trujillo</td>\n",
              "      <td>2700</td>\n",
              "    </tr>\n",
              "    <tr>\n",
              "      <th>18</th>\n",
              "      <td>Fernanda</td>\n",
              "      <td>28</td>\n",
              "      <td>Cusco</td>\n",
              "      <td>2100</td>\n",
              "    </tr>\n",
              "    <tr>\n",
              "      <th>19</th>\n",
              "      <td>Ricardo</td>\n",
              "      <td>35</td>\n",
              "      <td>Lima</td>\n",
              "      <td>4400</td>\n",
              "    </tr>\n",
              "    <tr>\n",
              "      <th>20</th>\n",
              "      <td>Lucía</td>\n",
              "      <td>23</td>\n",
              "      <td>Trujillo</td>\n",
              "      <td>1500</td>\n",
              "    </tr>\n",
              "    <tr>\n",
              "      <th>21</th>\n",
              "      <td>José</td>\n",
              "      <td>34</td>\n",
              "      <td>Arequipa</td>\n",
              "      <td>4200</td>\n",
              "    </tr>\n",
              "    <tr>\n",
              "      <th>22</th>\n",
              "      <td>Willy</td>\n",
              "      <td>55</td>\n",
              "      <td>Puno</td>\n",
              "      <td>1300</td>\n",
              "    </tr>\n",
              "  </tbody>\n",
              "</table>\n",
              "</div>\n",
              "    <div class=\"colab-df-buttons\">\n",
              "\n",
              "  <div class=\"colab-df-container\">\n",
              "    <button class=\"colab-df-convert\" onclick=\"convertToInteractive('df-fa63d577-ec83-4c67-b943-7ede91b5dfa9')\"\n",
              "            title=\"Convert this dataframe to an interactive table.\"\n",
              "            style=\"display:none;\">\n",
              "\n",
              "  <svg xmlns=\"http://www.w3.org/2000/svg\" height=\"24px\" viewBox=\"0 -960 960 960\">\n",
              "    <path d=\"M120-120v-720h720v720H120Zm60-500h600v-160H180v160Zm220 220h160v-160H400v160Zm0 220h160v-160H400v160ZM180-400h160v-160H180v160Zm440 0h160v-160H620v160ZM180-180h160v-160H180v160Zm440 0h160v-160H620v160Z\"/>\n",
              "  </svg>\n",
              "    </button>\n",
              "\n",
              "  <style>\n",
              "    .colab-df-container {\n",
              "      display:flex;\n",
              "      gap: 12px;\n",
              "    }\n",
              "\n",
              "    .colab-df-convert {\n",
              "      background-color: #E8F0FE;\n",
              "      border: none;\n",
              "      border-radius: 50%;\n",
              "      cursor: pointer;\n",
              "      display: none;\n",
              "      fill: #1967D2;\n",
              "      height: 32px;\n",
              "      padding: 0 0 0 0;\n",
              "      width: 32px;\n",
              "    }\n",
              "\n",
              "    .colab-df-convert:hover {\n",
              "      background-color: #E2EBFA;\n",
              "      box-shadow: 0px 1px 2px rgba(60, 64, 67, 0.3), 0px 1px 3px 1px rgba(60, 64, 67, 0.15);\n",
              "      fill: #174EA6;\n",
              "    }\n",
              "\n",
              "    .colab-df-buttons div {\n",
              "      margin-bottom: 4px;\n",
              "    }\n",
              "\n",
              "    [theme=dark] .colab-df-convert {\n",
              "      background-color: #3B4455;\n",
              "      fill: #D2E3FC;\n",
              "    }\n",
              "\n",
              "    [theme=dark] .colab-df-convert:hover {\n",
              "      background-color: #434B5C;\n",
              "      box-shadow: 0px 1px 3px 1px rgba(0, 0, 0, 0.15);\n",
              "      filter: drop-shadow(0px 1px 2px rgba(0, 0, 0, 0.3));\n",
              "      fill: #FFFFFF;\n",
              "    }\n",
              "  </style>\n",
              "\n",
              "    <script>\n",
              "      const buttonEl =\n",
              "        document.querySelector('#df-fa63d577-ec83-4c67-b943-7ede91b5dfa9 button.colab-df-convert');\n",
              "      buttonEl.style.display =\n",
              "        google.colab.kernel.accessAllowed ? 'block' : 'none';\n",
              "\n",
              "      async function convertToInteractive(key) {\n",
              "        const element = document.querySelector('#df-fa63d577-ec83-4c67-b943-7ede91b5dfa9');\n",
              "        const dataTable =\n",
              "          await google.colab.kernel.invokeFunction('convertToInteractive',\n",
              "                                                    [key], {});\n",
              "        if (!dataTable) return;\n",
              "\n",
              "        const docLinkHtml = 'Like what you see? Visit the ' +\n",
              "          '<a target=\"_blank\" href=https://colab.research.google.com/notebooks/data_table.ipynb>data table notebook</a>'\n",
              "          + ' to learn more about interactive tables.';\n",
              "        element.innerHTML = '';\n",
              "        dataTable['output_type'] = 'display_data';\n",
              "        await google.colab.output.renderOutput(dataTable, element);\n",
              "        const docLink = document.createElement('div');\n",
              "        docLink.innerHTML = docLinkHtml;\n",
              "        element.appendChild(docLink);\n",
              "      }\n",
              "    </script>\n",
              "  </div>\n",
              "\n",
              "\n",
              "<div id=\"df-e69c1124-e83b-4ebc-997a-1aa36bbce173\">\n",
              "  <button class=\"colab-df-quickchart\" onclick=\"quickchart('df-e69c1124-e83b-4ebc-997a-1aa36bbce173')\"\n",
              "            title=\"Suggest charts\"\n",
              "            style=\"display:none;\">\n",
              "\n",
              "<svg xmlns=\"http://www.w3.org/2000/svg\" height=\"24px\"viewBox=\"0 0 24 24\"\n",
              "     width=\"24px\">\n",
              "    <g>\n",
              "        <path d=\"M19 3H5c-1.1 0-2 .9-2 2v14c0 1.1.9 2 2 2h14c1.1 0 2-.9 2-2V5c0-1.1-.9-2-2-2zM9 17H7v-7h2v7zm4 0h-2V7h2v10zm4 0h-2v-4h2v4z\"/>\n",
              "    </g>\n",
              "</svg>\n",
              "  </button>\n",
              "\n",
              "<style>\n",
              "  .colab-df-quickchart {\n",
              "      --bg-color: #E8F0FE;\n",
              "      --fill-color: #1967D2;\n",
              "      --hover-bg-color: #E2EBFA;\n",
              "      --hover-fill-color: #174EA6;\n",
              "      --disabled-fill-color: #AAA;\n",
              "      --disabled-bg-color: #DDD;\n",
              "  }\n",
              "\n",
              "  [theme=dark] .colab-df-quickchart {\n",
              "      --bg-color: #3B4455;\n",
              "      --fill-color: #D2E3FC;\n",
              "      --hover-bg-color: #434B5C;\n",
              "      --hover-fill-color: #FFFFFF;\n",
              "      --disabled-bg-color: #3B4455;\n",
              "      --disabled-fill-color: #666;\n",
              "  }\n",
              "\n",
              "  .colab-df-quickchart {\n",
              "    background-color: var(--bg-color);\n",
              "    border: none;\n",
              "    border-radius: 50%;\n",
              "    cursor: pointer;\n",
              "    display: none;\n",
              "    fill: var(--fill-color);\n",
              "    height: 32px;\n",
              "    padding: 0;\n",
              "    width: 32px;\n",
              "  }\n",
              "\n",
              "  .colab-df-quickchart:hover {\n",
              "    background-color: var(--hover-bg-color);\n",
              "    box-shadow: 0 1px 2px rgba(60, 64, 67, 0.3), 0 1px 3px 1px rgba(60, 64, 67, 0.15);\n",
              "    fill: var(--button-hover-fill-color);\n",
              "  }\n",
              "\n",
              "  .colab-df-quickchart-complete:disabled,\n",
              "  .colab-df-quickchart-complete:disabled:hover {\n",
              "    background-color: var(--disabled-bg-color);\n",
              "    fill: var(--disabled-fill-color);\n",
              "    box-shadow: none;\n",
              "  }\n",
              "\n",
              "  .colab-df-spinner {\n",
              "    border: 2px solid var(--fill-color);\n",
              "    border-color: transparent;\n",
              "    border-bottom-color: var(--fill-color);\n",
              "    animation:\n",
              "      spin 1s steps(1) infinite;\n",
              "  }\n",
              "\n",
              "  @keyframes spin {\n",
              "    0% {\n",
              "      border-color: transparent;\n",
              "      border-bottom-color: var(--fill-color);\n",
              "      border-left-color: var(--fill-color);\n",
              "    }\n",
              "    20% {\n",
              "      border-color: transparent;\n",
              "      border-left-color: var(--fill-color);\n",
              "      border-top-color: var(--fill-color);\n",
              "    }\n",
              "    30% {\n",
              "      border-color: transparent;\n",
              "      border-left-color: var(--fill-color);\n",
              "      border-top-color: var(--fill-color);\n",
              "      border-right-color: var(--fill-color);\n",
              "    }\n",
              "    40% {\n",
              "      border-color: transparent;\n",
              "      border-right-color: var(--fill-color);\n",
              "      border-top-color: var(--fill-color);\n",
              "    }\n",
              "    60% {\n",
              "      border-color: transparent;\n",
              "      border-right-color: var(--fill-color);\n",
              "    }\n",
              "    80% {\n",
              "      border-color: transparent;\n",
              "      border-right-color: var(--fill-color);\n",
              "      border-bottom-color: var(--fill-color);\n",
              "    }\n",
              "    90% {\n",
              "      border-color: transparent;\n",
              "      border-bottom-color: var(--fill-color);\n",
              "    }\n",
              "  }\n",
              "</style>\n",
              "\n",
              "  <script>\n",
              "    async function quickchart(key) {\n",
              "      const quickchartButtonEl =\n",
              "        document.querySelector('#' + key + ' button');\n",
              "      quickchartButtonEl.disabled = true;  // To prevent multiple clicks.\n",
              "      quickchartButtonEl.classList.add('colab-df-spinner');\n",
              "      try {\n",
              "        const charts = await google.colab.kernel.invokeFunction(\n",
              "            'suggestCharts', [key], {});\n",
              "      } catch (error) {\n",
              "        console.error('Error during call to suggestCharts:', error);\n",
              "      }\n",
              "      quickchartButtonEl.classList.remove('colab-df-spinner');\n",
              "      quickchartButtonEl.classList.add('colab-df-quickchart-complete');\n",
              "    }\n",
              "    (() => {\n",
              "      let quickchartButtonEl =\n",
              "        document.querySelector('#df-e69c1124-e83b-4ebc-997a-1aa36bbce173 button');\n",
              "      quickchartButtonEl.style.display =\n",
              "        google.colab.kernel.accessAllowed ? 'block' : 'none';\n",
              "    })();\n",
              "  </script>\n",
              "</div>\n",
              "\n",
              "  <div id=\"id_bc802455-2072-4a06-84e4-aae0f542f37f\">\n",
              "    <style>\n",
              "      .colab-df-generate {\n",
              "        background-color: #E8F0FE;\n",
              "        border: none;\n",
              "        border-radius: 50%;\n",
              "        cursor: pointer;\n",
              "        display: none;\n",
              "        fill: #1967D2;\n",
              "        height: 32px;\n",
              "        padding: 0 0 0 0;\n",
              "        width: 32px;\n",
              "      }\n",
              "\n",
              "      .colab-df-generate:hover {\n",
              "        background-color: #E2EBFA;\n",
              "        box-shadow: 0px 1px 2px rgba(60, 64, 67, 0.3), 0px 1px 3px 1px rgba(60, 64, 67, 0.15);\n",
              "        fill: #174EA6;\n",
              "      }\n",
              "\n",
              "      [theme=dark] .colab-df-generate {\n",
              "        background-color: #3B4455;\n",
              "        fill: #D2E3FC;\n",
              "      }\n",
              "\n",
              "      [theme=dark] .colab-df-generate:hover {\n",
              "        background-color: #434B5C;\n",
              "        box-shadow: 0px 1px 3px 1px rgba(0, 0, 0, 0.15);\n",
              "        filter: drop-shadow(0px 1px 2px rgba(0, 0, 0, 0.3));\n",
              "        fill: #FFFFFF;\n",
              "      }\n",
              "    </style>\n",
              "    <button class=\"colab-df-generate\" onclick=\"generateWithVariable('datos')\"\n",
              "            title=\"Generate code using this dataframe.\"\n",
              "            style=\"display:none;\">\n",
              "\n",
              "  <svg xmlns=\"http://www.w3.org/2000/svg\" height=\"24px\"viewBox=\"0 0 24 24\"\n",
              "       width=\"24px\">\n",
              "    <path d=\"M7,19H8.4L18.45,9,17,7.55,7,17.6ZM5,21V16.75L18.45,3.32a2,2,0,0,1,2.83,0l1.4,1.43a1.91,1.91,0,0,1,.58,1.4,1.91,1.91,0,0,1-.58,1.4L9.25,21ZM18.45,9,17,7.55Zm-12,3A5.31,5.31,0,0,0,4.9,8.1,5.31,5.31,0,0,0,1,6.5,5.31,5.31,0,0,0,4.9,4.9,5.31,5.31,0,0,0,6.5,1,5.31,5.31,0,0,0,8.1,4.9,5.31,5.31,0,0,0,12,6.5,5.46,5.46,0,0,0,6.5,12Z\"/>\n",
              "  </svg>\n",
              "    </button>\n",
              "    <script>\n",
              "      (() => {\n",
              "      const buttonEl =\n",
              "        document.querySelector('#id_bc802455-2072-4a06-84e4-aae0f542f37f button.colab-df-generate');\n",
              "      buttonEl.style.display =\n",
              "        google.colab.kernel.accessAllowed ? 'block' : 'none';\n",
              "\n",
              "      buttonEl.onclick = () => {\n",
              "        google.colab.notebook.generateWithVariable('datos');\n",
              "      }\n",
              "      })();\n",
              "    </script>\n",
              "  </div>\n",
              "\n",
              "    </div>\n",
              "  </div>\n"
            ],
            "application/vnd.google.colaboratory.intrinsic+json": {
              "type": "dataframe",
              "variable_name": "datos",
              "summary": "{\n  \"name\": \"datos\",\n  \"rows\": 23,\n  \"fields\": [\n    {\n      \"column\": \"nombre\",\n      \"properties\": {\n        \"dtype\": \"string\",\n        \"num_unique_values\": 23,\n        \"samples\": [\n          \"Javier\",\n          \"Andr\\u00e9s\",\n          \"Juan\"\n        ],\n        \"semantic_type\": \"\",\n        \"description\": \"\"\n      }\n    },\n    {\n      \"column\": \"edad\",\n      \"properties\": {\n        \"dtype\": \"number\",\n        \"std\": 9,\n        \"min\": 21,\n        \"max\": 64,\n        \"num_unique_values\": 17,\n        \"samples\": [\n          30,\n          28,\n          31\n        ],\n        \"semantic_type\": \"\",\n        \"description\": \"\"\n      }\n    },\n    {\n      \"column\": \"ciudad\",\n      \"properties\": {\n        \"dtype\": \"category\",\n        \"num_unique_values\": 6,\n        \"samples\": [\n          \"Lima\",\n          \"Arequipa\",\n          \"Puno\"\n        ],\n        \"semantic_type\": \"\",\n        \"description\": \"\"\n      }\n    },\n    {\n      \"column\": \"ingresos\",\n      \"properties\": {\n        \"dtype\": \"number\",\n        \"std\": 1155,\n        \"min\": 1300,\n        \"max\": 5000,\n        \"num_unique_values\": 18,\n        \"samples\": [\n          2500,\n          3800,\n          2900\n        ],\n        \"semantic_type\": \"\",\n        \"description\": \"\"\n      }\n    }\n  ]\n}"
            }
          },
          "metadata": {},
          "execution_count": 35
        }
      ]
    },
    {
      "cell_type": "code",
      "source": [
        "suma_ingresos = datos['ingresos'].sum()\n",
        "\n",
        "print(\"La suma de los ingresos es:\", suma_ingresos)"
      ],
      "metadata": {
        "colab": {
          "base_uri": "https://localhost:8080/"
        },
        "id": "S5CzZwzdwpfN",
        "outputId": "e10c8d19-b522-4318-8f3b-ec62e0e80358"
      },
      "execution_count": null,
      "outputs": [
        {
          "output_type": "stream",
          "name": "stdout",
          "text": [
            "La suma de los ingresos es: 76180\n"
          ]
        }
      ]
    },
    {
      "cell_type": "code",
      "source": [
        "#obtenemos el promedio de las edades de las personas de la lista\n",
        "promedio_edades = datos['edad'].mean()\n",
        "\n",
        "print(\"El promedio de las edades es:\", int (promedio_edades))"
      ],
      "metadata": {
        "colab": {
          "base_uri": "https://localhost:8080/"
        },
        "id": "J6M_RDYExdcV",
        "outputId": "4b33ca0e-2c56-4353-ef3a-edb339dc5d76"
      },
      "execution_count": null,
      "outputs": [
        {
          "output_type": "stream",
          "name": "stdout",
          "text": [
            "El promedio de las edades es: 31\n"
          ]
        }
      ]
    },
    {
      "cell_type": "code",
      "source": [
        "promedio_ciudad=datos.groupby('ciudad')['ingresos'].mean().astype(int);\n",
        "\n",
        "print(promedio_ciudad)"
      ],
      "metadata": {
        "colab": {
          "base_uri": "https://localhost:8080/"
        },
        "id": "b1KwvyRO1TlP",
        "outputId": "985f322d-ff4e-425f-f87b-bbfbf1cf60aa"
      },
      "execution_count": null,
      "outputs": [
        {
          "output_type": "stream",
          "name": "stdout",
          "text": [
            "ciudad\n",
            "Arequipa    4040\n",
            "Cusco       2975\n",
            "Juliaca     4990\n",
            "Lima        3366\n",
            "Puno        1300\n",
            "Trujillo    2520\n",
            "Name: ingresos, dtype: int64\n"
          ]
        }
      ]
    },
    {
      "cell_type": "code",
      "source": [
        "personas_arequipa=datos[datos['ciudad']=='Arequipa']\n",
        "print(personas_arequipa)"
      ],
      "metadata": {
        "colab": {
          "base_uri": "https://localhost:8080/"
        },
        "id": "roLI3hRV3Eu3",
        "outputId": "48d96c6a-9d32-4b12-adc7-d07417e7a1db"
      },
      "execution_count": null,
      "outputs": [
        {
          "output_type": "stream",
          "name": "stdout",
          "text": [
            "      nombre  edad    ciudad  ingresos\n",
            "1      María    28  Arequipa      3800\n",
            "4      Pedro    28  Arequipa      3200\n",
            "10  Gabriela    33  Arequipa      4000\n",
            "15    Javier    32  Arequipa      5000\n",
            "21      José    34  Arequipa      4200\n"
          ]
        }
      ]
    },
    {
      "cell_type": "code",
      "source": [
        "joven=datos.loc[datos['edad']==datos['edad'].min(),\"nombre\"].values[0]\n",
        "print(joven);"
      ],
      "metadata": {
        "colab": {
          "base_uri": "https://localhost:8080/"
        },
        "id": "0-8kkgz43j9f",
        "outputId": "808535da-77b2-4c1e-fcaf-97c90a1a92eb"
      },
      "execution_count": null,
      "outputs": [
        {
          "output_type": "stream",
          "name": "stdout",
          "text": [
            "Micaela\n"
          ]
        }
      ]
    },
    {
      "cell_type": "code",
      "source": [
        "mayor=datos.loc[datos['edad']==datos['edad'].max(),\"nombre\"].values[0]\n",
        "print(mayor);"
      ],
      "metadata": {
        "colab": {
          "base_uri": "https://localhost:8080/"
        },
        "id": "zZSUQTP53-nW",
        "outputId": "d7ee6abe-e15c-4cdf-c911-6b99f8f8b202"
      },
      "execution_count": null,
      "outputs": [
        {
          "output_type": "stream",
          "name": "stdout",
          "text": [
            "Leonel\n"
          ]
        }
      ]
    },
    {
      "cell_type": "code",
      "source": [
        "joven=datos.loc[datos['edad']==datos['edad'].min()].values[0]\n",
        "print(joven);"
      ],
      "metadata": {
        "colab": {
          "base_uri": "https://localhost:8080/"
        },
        "id": "l1A102JY4pHX",
        "outputId": "0232cc96-f907-4acd-e7a4-6a58a98976c7"
      },
      "execution_count": null,
      "outputs": [
        {
          "output_type": "stream",
          "name": "stdout",
          "text": [
            "['Micaela' 21 'Juliaca' 5000]\n"
          ]
        }
      ]
    },
    {
      "cell_type": "code",
      "source": [
        "mayor=datos.loc[datos['edad']==datos['edad'].max()].values[0]\n",
        "print(mayor);"
      ],
      "metadata": {
        "colab": {
          "base_uri": "https://localhost:8080/"
        },
        "id": "vSik0zyw4vom",
        "outputId": "e84a1852-9391-475d-d631-4a436587d68f"
      },
      "execution_count": null,
      "outputs": [
        {
          "output_type": "stream",
          "name": "stdout",
          "text": [
            "['Leonel' 64 'Juliaca' 4980]\n"
          ]
        }
      ]
    },
    {
      "cell_type": "code",
      "source": [
        "trabajadores_por_ciudad = datos['ciudad'].value_counts().sort_values()\n",
        "\n",
        "print(\"Cantidad de personas que trabajan por ciudad:\")\n",
        "print(trabajadores_por_ciudad)"
      ],
      "metadata": {
        "colab": {
          "base_uri": "https://localhost:8080/"
        },
        "id": "1lgyRi3A49uW",
        "outputId": "aea055c3-2b35-4a51-cd61-302dd35b7d09"
      },
      "execution_count": null,
      "outputs": [
        {
          "output_type": "stream",
          "name": "stdout",
          "text": [
            "Cantidad de personas que trabajan por ciudad:\n",
            "Puno        1\n",
            "Juliaca     2\n",
            "Cusco       4\n",
            "Arequipa    5\n",
            "Trujillo    5\n",
            "Lima        6\n",
            "Name: ciudad, dtype: int64\n"
          ]
        }
      ]
    },
    {
      "cell_type": "code",
      "source": [
        "listado_ordenado_por_edad = datos.sort_values(by='edad')[['nombre', 'edad']]\n",
        "\n",
        "print(\"Listado ordenado por edad (de menor a mayor):\")\n",
        "print(listado_ordenado_por_edad)"
      ],
      "metadata": {
        "colab": {
          "base_uri": "https://localhost:8080/"
        },
        "id": "pAHnNClg6UiR",
        "outputId": "b6c17028-4bf5-4ae9-ca1e-cac510c51a44"
      },
      "execution_count": null,
      "outputs": [
        {
          "output_type": "stream",
          "name": "stdout",
          "text": [
            "Listado ordenado por edad (de menor a mayor):\n",
            "       nombre  edad\n",
            "11    Micaela    21\n",
            "3         Ana    22\n",
            "20      Lucía    23\n",
            "12      Diego    24\n",
            "7      Carlos    25\n",
            "13  Valentina    26\n",
            "9      Andrés    27\n",
            "1       María    28\n",
            "4       Pedro    28\n",
            "18   Fernanda    28\n",
            "16    Daniela    29\n",
            "8       Sofía    29\n",
            "14     Lorena    30\n",
            "0        Juan    30\n",
            "6       Laura    31\n",
            "17     Manuel    31\n",
            "15     Javier    32\n",
            "10   Gabriela    33\n",
            "21       José    34\n",
            "19    Ricardo    35\n",
            "2        Luis    35\n",
            "22      Willy    55\n",
            "5      Leonel    64\n"
          ]
        }
      ]
    },
    {
      "cell_type": "code",
      "source": [
        "listado_ordenado_por_edad = datos.sort_values(by='edad', ascending=False)[['nombre', 'edad']]\n",
        "\n",
        "print(\"Listado ordenado por edad (de mayor a menor):\")\n",
        "print(listado_ordenado_por_edad)"
      ],
      "metadata": {
        "colab": {
          "base_uri": "https://localhost:8080/"
        },
        "id": "Zk3Rv8sq6pwo",
        "outputId": "e7bf7574-7dd8-4b28-d35f-2ca3f6dfb030"
      },
      "execution_count": null,
      "outputs": [
        {
          "output_type": "stream",
          "name": "stdout",
          "text": [
            "Listado ordenado por edad (de mayor a menor):\n",
            "       nombre  edad\n",
            "5      Leonel    64\n",
            "22      Willy    55\n",
            "2        Luis    35\n",
            "19    Ricardo    35\n",
            "21       José    34\n",
            "10   Gabriela    33\n",
            "15     Javier    32\n",
            "6       Laura    31\n",
            "17     Manuel    31\n",
            "14     Lorena    30\n",
            "0        Juan    30\n",
            "8       Sofía    29\n",
            "16    Daniela    29\n",
            "1       María    28\n",
            "18   Fernanda    28\n",
            "4       Pedro    28\n",
            "9      Andrés    27\n",
            "13  Valentina    26\n",
            "7      Carlos    25\n",
            "12      Diego    24\n",
            "20      Lucía    23\n",
            "3         Ana    22\n",
            "11    Micaela    21\n"
          ]
        }
      ]
    }
  ]
}